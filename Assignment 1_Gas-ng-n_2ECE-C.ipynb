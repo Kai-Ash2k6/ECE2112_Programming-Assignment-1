{
 "cells": [
  {
   "cell_type": "code",
   "execution_count": null,
   "id": "0e7691c9-4c10-4ee1-a112-1cb6d9c0abbd",
   "metadata": {},
   "outputs": [],
   "source": [
    "#NOTE: More details on my README file located @ my github repository Prog Assignment 1"
   ]
  },
  {
   "cell_type": "code",
   "execution_count": null,
   "id": "81bf0d6f-9e39-4911-b243-b3a82b4fea7a",
   "metadata": {},
   "outputs": [],
   "source": [
    "#Alphabet Soup Problem: Create a function that takes a string and returns a string with its letters\n",
    "        #in alphabetical order."
   ]
  },
  {
   "cell_type": "code",
   "execution_count": 3,
   "id": "727a978a-11d9-48a9-8e34-64941533d029",
   "metadata": {},
   "outputs": [
    {
     "name": "stdin",
     "output_type": "stream",
     "text": [
      "Please Enter a String:  ruano\n"
     ]
    },
    {
     "name": "stdout",
     "output_type": "stream",
     "text": [
      "anoru\n"
     ]
    }
   ],
   "source": [
    "#Need to arrange letters of a string in alphabetical order\n",
    "def alphabetSoup(string):\n",
    "                            #covert to list and sort\n",
    "    p = sorted(list(string))\n",
    "                            #empty string for result\n",
    "    newString = ''\n",
    "    for char in p: \n",
    "                            #add each leter to the new string\n",
    "        newString += char\n",
    "    return newString\n",
    "                            #return the sorted string\n",
    "word  = input(\"Please Enter a String: \")\n",
    "print(alphabetSoup(word))"
   ]
  },
  {
   "cell_type": "code",
   "execution_count": null,
   "id": "351e5597-5e14-4394-8488-58eec55e29bb",
   "metadata": {},
   "outputs": [],
   "source": [
    "#Emoticon Problem: Create a function that changes specific words into emoticons. Given a sentence\n",
    "         # as a string, replace the words smile, grin, sad and mad with their corresponding emoticon"
   ]
  },
  {
   "cell_type": "code",
   "execution_count": 10,
   "id": "c117ffb7-b3c4-479b-8015-13c0ea2c0816",
   "metadata": {},
   "outputs": [
    {
     "name": "stdin",
     "output_type": "stream",
     "text": [
      "Enter a message:  ang sad ko today kasi naka smile na siya sa iba\n"
     ]
    },
    {
     "name": "stdout",
     "output_type": "stream",
     "text": [
      "ang :(( ko today kasi naka :) na siya sa iba\n"
     ]
    }
   ],
   "source": [
    "#Function \"emoji_ito\"\n",
    "def emoticon_ito(message):\n",
    "    #dictionary \"papalitan\"\n",
    "    papalitan = {\n",
    "        \"smile\": \":)\",\n",
    "        \"grin\": \":D\",\n",
    "        \"sad\": \":((\",\n",
    "        \"mad\": \">:(\" \n",
    "        #salita = ito yung word na hinahanap\n",
    "        #emoji\" = ito yung ipapalit sa nahanap na word.\n",
    "    }\n",
    "    #loop \n",
    "    for salita, emoji in papalitan.items():\n",
    "        message = message.replace(salita, emoji)\n",
    "        #Papalitan lahat ng exact salita (lowercased) ng emoji\n",
    "        message = message.replace(salita.capitalize(), emoji)\n",
    "        #Papalitan din kung capitalized [e.g. Smile -> :)]\n",
    "        \n",
    "    return message\n",
    "    #return the new message\n",
    "napalitan_na = input(\"Enter a message: \")\n",
    "print(emoticon_ito(napalitan_na))"
   ]
  },
  {
   "cell_type": "code",
   "execution_count": null,
   "id": "8d293fa4-73de-4194-bf6c-2998a7512e86",
   "metadata": {},
   "outputs": [],
   "source": [
    "#Unpacking List Problem: \n",
    "    #Unpack the list write your code here into three variables, being first, middle, and last, with middle being everything in \n",
    "    #between the first and last element. Then print all three variables."
   ]
  },
  {
   "cell_type": "code",
   "execution_count": 11,
   "id": "eda6ba04-181d-4918-bcd3-b2c21f44e559",
   "metadata": {},
   "outputs": [
    {
     "name": "stdout",
     "output_type": "stream",
     "text": [
      "first: a\n",
      "middle: ['b', 'c', 'd']\n",
      "last: e\n"
     ]
    }
   ],
   "source": [
    "#Inserting list\n",
    "listahan = ['a', 'b', 'c', 'd', 'e']\n",
    "\n",
    "# Unpacking into three variables\n",
    "# Using extended unpacking to separate first, middle, and last elements\n",
    "first, *middle, last = listahan \n",
    "\n",
    "# Print results\n",
    "print(\"first:\", first)\n",
    "print(\"middle:\", middle)\n",
    "print(\"last:\", last)\n"
   ]
  }
 ],
 "metadata": {
  "kernelspec": {
   "display_name": "Python [conda env:base] *",
   "language": "python",
   "name": "conda-base-py"
  },
  "language_info": {
   "codemirror_mode": {
    "name": "ipython",
    "version": 3
   },
   "file_extension": ".py",
   "mimetype": "text/x-python",
   "name": "python",
   "nbconvert_exporter": "python",
   "pygments_lexer": "ipython3",
   "version": "3.13.5"
  }
 },
 "nbformat": 4,
 "nbformat_minor": 5
}
